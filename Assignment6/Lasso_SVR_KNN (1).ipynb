{
  "nbformat": 4,
  "nbformat_minor": 0,
  "metadata": {
    "colab": {
      "provenance": []
    },
    "kernelspec": {
      "name": "python3",
      "display_name": "Python 3"
    },
    "language_info": {
      "name": "python"
    }
  },
  "cells": [
    {
      "cell_type": "code",
      "execution_count": 21,
      "metadata": {
        "id": "GlfMQObJvNqN"
      },
      "outputs": [],
      "source": [
        "import numpy as np\n",
        "import matplotlib.pyplot as plt\n",
        "from sklearn.model_selection import train_test_split\n",
        "from sklearn.preprocessing import StandardScaler\n",
        "from sklearn.linear_model import LinearRegression, Lasso\n",
        "from sklearn.datasets import load_diabetes\n",
        "from sklearn.metrics import r2_score, mean_squared_error\n",
        "from sklearn.datasets import fetch_california_housing\n",
        "from sklearn.linear_model import Ridge\n",
        "from sklearn.svm import SVR\n",
        "from sklearn.neighbors import KNeighborsRegressor"
      ]
    },
    {
      "cell_type": "markdown",
      "source": [
        "### Lasso Regressor : x -> y"
      ],
      "metadata": {
        "id": "gToDTBLCTkXt"
      }
    },
    {
      "cell_type": "code",
      "source": [
        "dataset, y = fetch_california_housing(return_X_y=True, as_frame=True)\n",
        "\n",
        "# data = dataset['data']\n"
      ],
      "metadata": {
        "id": "recBpID_Q6Dt"
      },
      "execution_count": 2,
      "outputs": []
    },
    {
      "cell_type": "code",
      "source": [
        "dataset.info()"
      ],
      "metadata": {
        "colab": {
          "base_uri": "https://localhost:8080/"
        },
        "id": "x-56dplmonkP",
        "outputId": "f53e321c-0d8c-4306-9375-9eec8b46d49c"
      },
      "execution_count": 3,
      "outputs": [
        {
          "output_type": "stream",
          "name": "stdout",
          "text": [
            "<class 'pandas.core.frame.DataFrame'>\n",
            "RangeIndex: 20640 entries, 0 to 20639\n",
            "Data columns (total 8 columns):\n",
            " #   Column      Non-Null Count  Dtype  \n",
            "---  ------      --------------  -----  \n",
            " 0   MedInc      20640 non-null  float64\n",
            " 1   HouseAge    20640 non-null  float64\n",
            " 2   AveRooms    20640 non-null  float64\n",
            " 3   AveBedrms   20640 non-null  float64\n",
            " 4   Population  20640 non-null  float64\n",
            " 5   AveOccup    20640 non-null  float64\n",
            " 6   Latitude    20640 non-null  float64\n",
            " 7   Longitude   20640 non-null  float64\n",
            "dtypes: float64(8)\n",
            "memory usage: 1.3 MB\n"
          ]
        }
      ]
    },
    {
      "cell_type": "code",
      "source": [
        "x = dataset\n",
        "y = y"
      ],
      "metadata": {
        "id": "ayrAC03dYo57"
      },
      "execution_count": 4,
      "outputs": []
    },
    {
      "cell_type": "code",
      "source": [
        "print(x.shape)"
      ],
      "metadata": {
        "colab": {
          "base_uri": "https://localhost:8080/"
        },
        "id": "94tvLwyZRrpd",
        "outputId": "3d175a94-8242-4e71-a771-7294ec68be4d"
      },
      "execution_count": 5,
      "outputs": [
        {
          "output_type": "stream",
          "name": "stdout",
          "text": [
            "(20640, 8)\n"
          ]
        }
      ]
    },
    {
      "cell_type": "code",
      "source": [
        "x_train, x_test, y_train, y_test = train_test_split(x, y, test_size=0.2)"
      ],
      "metadata": {
        "id": "zf0_Ipt1YteA"
      },
      "execution_count": 6,
      "outputs": []
    },
    {
      "cell_type": "code",
      "source": [
        "w = []\n",
        "r2 = []\n",
        "mse = []\n",
        "alpha_list = [0, 0.1, 0.5, 2]\n",
        "\n",
        "for alpha in alpha_list:\n",
        "    # fit model\n",
        "    model = Lasso(alpha=alpha)\n",
        "    model.fit(x_train, y_train)\n",
        "\n",
        "    # prediction\n",
        "    y_pred = model.predict(x_test)\n",
        "\n",
        "    # store metrics for prediction, for each fit\n",
        "    r2.append(r2_score(y_test, y_pred))\n",
        "    mse.append(mean_squared_error(y_test, y_pred))\n",
        "    w.append(model.coef_.tolist())"
      ],
      "metadata": {
        "colab": {
          "base_uri": "https://localhost:8080/"
        },
        "id": "09rlKrGjvLVr",
        "outputId": "192da4e6-715c-44e7-bb6e-8e5acc249344"
      },
      "execution_count": 27,
      "outputs": [
        {
          "output_type": "stream",
          "name": "stderr",
          "text": [
            "<ipython-input-27-06c95b0fac26>:9: UserWarning: With alpha=0, this algorithm does not converge well. You are advised to use the LinearRegression estimator\n",
            "  model.fit(x_train, y_train)\n",
            "/usr/local/lib/python3.10/dist-packages/sklearn/linear_model/_coordinate_descent.py:631: UserWarning: Coordinate descent with no regularization may lead to unexpected results and is discouraged.\n",
            "  model = cd_fast.enet_coordinate_descent(\n",
            "/usr/local/lib/python3.10/dist-packages/sklearn/linear_model/_coordinate_descent.py:631: ConvergenceWarning: Objective did not converge. You might want to increase the number of iterations, check the scale of the features or consider increasing regularisation. Duality gap: 4.347e+03, tolerance: 2.190e+00 Linear regression models with null weight for the l1 regularization term are more efficiently fitted using one of the solvers implemented in sklearn.linear_model.Ridge/RidgeCV instead.\n",
            "  model = cd_fast.enet_coordinate_descent(\n"
          ]
        }
      ]
    },
    {
      "cell_type": "code",
      "source": [
        "r2"
      ],
      "metadata": {
        "colab": {
          "base_uri": "https://localhost:8080/"
        },
        "id": "Zj3tGaJQvN3g",
        "outputId": "287e9ff0-7bd4-4a17-d48d-ea8afdbe55d7"
      },
      "execution_count": 26,
      "outputs": [
        {
          "output_type": "execute_result",
          "data": {
            "text/plain": [
              "[0.6102992411194824,\n",
              " 0.5558386950798315,\n",
              " 0.4632391724247489,\n",
              " 1.6536440006764686e-05]"
            ]
          },
          "metadata": {},
          "execution_count": 26
        }
      ]
    },
    {
      "cell_type": "code",
      "source": [
        "mse"
      ],
      "metadata": {
        "colab": {
          "base_uri": "https://localhost:8080/"
        },
        "id": "fDcD_ajBvUmJ",
        "outputId": "1ad99394-6c53-4df6-c826-ecf58c683045"
      },
      "execution_count": 28,
      "outputs": [
        {
          "output_type": "execute_result",
          "data": {
            "text/plain": [
              "[0.5272910535247418,\n",
              " 0.6009797955720334,\n",
              " 0.7262731103629779,\n",
              " 1.3530441550141656]"
            ]
          },
          "metadata": {},
          "execution_count": 28
        }
      ]
    },
    {
      "cell_type": "code",
      "source": [
        "w = []\n",
        "r2 = []\n",
        "alpha_list = [0, 0.1, 0.2, 0.5, 1, 1.5]\n",
        "mse = []\n",
        "for alpha in alpha_list:\n",
        "    # fit model\n",
        "    model = SVR(C = 1, epsilon=alpha)\n",
        "    model.fit(x_train, y_train)\n",
        "\n",
        "    # prediction\n",
        "    y_pred = model.predict(x_test)\n",
        "\n",
        "    # store metrics for prediction, for each fit\n",
        "    r2.append(r2_score(y_test, y_pred))\n",
        "    w.append(model.get_params())\n",
        "    mse.append(mean_squared_error(y_test, y_pred))"
      ],
      "metadata": {
        "id": "AXhVCBfeKH4c"
      },
      "execution_count": 19,
      "outputs": []
    },
    {
      "cell_type": "code",
      "source": [
        "print(model.coef_)"
      ],
      "metadata": {
        "colab": {
          "base_uri": "https://localhost:8080/"
        },
        "id": "ku0vDSjvShaL",
        "outputId": "4cfdbf34-c5c3-4c8c-c298-528fbc4bf833"
      },
      "execution_count": 8,
      "outputs": [
        {
          "output_type": "stream",
          "name": "stdout",
          "text": [
            "[ 4.33934663e-01  9.38236904e-03 -1.10452311e-01  6.25252206e-01\n",
            " -5.66335903e-06 -8.15417063e-03 -4.20985314e-01 -4.32213424e-01]\n"
          ]
        }
      ]
    },
    {
      "cell_type": "code",
      "source": [
        "r2"
      ],
      "metadata": {
        "colab": {
          "base_uri": "https://localhost:8080/"
        },
        "id": "S4PBPt0mt-W_",
        "outputId": "fe323f5d-c1ce-426e-b8a5-4e1023a031ed"
      },
      "execution_count": 18,
      "outputs": [
        {
          "output_type": "execute_result",
          "data": {
            "text/plain": [
              "[-0.024891307666542906,\n",
              " -0.02464242222043067,\n",
              " -0.01871317822679197,\n",
              " -0.0021819520126453718,\n",
              " 0.020295635060074035,\n",
              " -0.027038679839872737]"
            ]
          },
          "metadata": {},
          "execution_count": 18
        }
      ]
    },
    {
      "cell_type": "code",
      "source": [
        "mse"
      ],
      "metadata": {
        "colab": {
          "base_uri": "https://localhost:8080/"
        },
        "id": "3NJMJu8OuqbO",
        "outputId": "94bd1e16-7119-4f50-99e9-7da6b253ad2e"
      },
      "execution_count": 20,
      "outputs": [
        {
          "output_type": "execute_result",
          "data": {
            "text/plain": [
              "[1.386746125207145,\n",
              " 1.3864093666402268,\n",
              " 1.3783867050447187,\n",
              " 1.3560188561558597,\n",
              " 1.3256051854144533,\n",
              " 1.389651662622154]"
            ]
          },
          "metadata": {},
          "execution_count": 20
        }
      ]
    },
    {
      "cell_type": "code",
      "source": [
        "w = []\n",
        "r2 = []\n",
        "alpha_list = [1, 2, 4, 3]\n",
        "mse = []\n",
        "for alpha in alpha_list:\n",
        "    # fit model\n",
        "    model = KNeighborsRegressor(n_neighbors=alpha)\n",
        "    model.fit(x_train, y_train)\n",
        "\n",
        "    # prediction\n",
        "    y_pred = model.predict(x_test)\n",
        "\n",
        "    # store metrics for prediction, for each fit\n",
        "    r2.append(r2_score(y_test, y_pred))\n",
        "    w.append(model.get_params())\n",
        "    mse.append(mean_squared_error(y_test, y_pred))"
      ],
      "metadata": {
        "id": "Y4TzGgesucNW"
      },
      "execution_count": 22,
      "outputs": []
    },
    {
      "cell_type": "code",
      "source": [
        "r2"
      ],
      "metadata": {
        "id": "hZIf2YDWMfGE",
        "colab": {
          "base_uri": "https://localhost:8080/"
        },
        "outputId": "a3c17c40-2451-4d92-d0cc-3c5f9b2d9e0f"
      },
      "execution_count": 23,
      "outputs": [
        {
          "output_type": "execute_result",
          "data": {
            "text/plain": [
              "[-0.18971954269810953,\n",
              " 0.06870948797907894,\n",
              " 0.14133460045837032,\n",
              " 0.12006319715318559]"
            ]
          },
          "metadata": {},
          "execution_count": 23
        }
      ]
    },
    {
      "cell_type": "code",
      "source": [
        "mse"
      ],
      "metadata": {
        "id": "erDGbNWQOTxG",
        "colab": {
          "base_uri": "https://localhost:8080/"
        },
        "outputId": "093dcaa5-6b22-4f27-a23d-5ef8a65f0a23"
      },
      "execution_count": 24,
      "outputs": [
        {
          "output_type": "execute_result",
          "data": {
            "text/plain": [
              "[1.6097696932137597, 1.260098021445391, 1.1618314125181564, 1.1906130363747818]"
            ]
          },
          "metadata": {},
          "execution_count": 24
        }
      ]
    },
    {
      "cell_type": "markdown",
      "source": [
        "### Assignment ###"
      ],
      "metadata": {
        "id": "WfgfnWSbOT8e"
      }
    },
    {
      "cell_type": "code",
      "source": [
        "# 1. Perform the above task for the California Housing Dataset. Find out -\n",
        "# a. the top 3 most important features\n",
        "# b. after removing how many features does the r2_score begin to drop?\n",
        "# c. visualize the above task with ridge regularisation - confirm that feature selection doesn't take place."
      ],
      "metadata": {
        "id": "XCUL6Gq9OVdB"
      },
      "execution_count": null,
      "outputs": []
    },
    {
      "cell_type": "code",
      "source": [
        "# 2. Compare with SVM Regressor, KNN-Regressor, Lasso Regressor\n",
        "# Report the R2 Scores of each\n",
        "# SVM Regressor: https://scikit-learn.org/stable/modules/svm.html#regression\n",
        "# KNN Regressor: https://scikit-learn.org/stable/modules/generated/sklearn.neighbors.KNeighborsRegressor.html#sklearn.neighbors.KNeighborsRegressor\n",
        "# Lasso Regressor: https://scikit-learn.org/stable/modules/linear_model.html#lasso"
      ],
      "metadata": {
        "id": "eMClzzOjOeV_"
      },
      "execution_count": null,
      "outputs": []
    },
    {
      "cell_type": "markdown",
      "source": [
        "LAsso is the best model as r2 scores are not negative and between 0.5 and 1, whereas scores are negative and below 0.5 for SVR and KNN."
      ],
      "metadata": {
        "id": "DzRKuXhkv-gL"
      }
    }
  ]
}
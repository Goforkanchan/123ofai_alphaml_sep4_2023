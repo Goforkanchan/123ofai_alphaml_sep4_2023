{
  "nbformat": 4,
  "nbformat_minor": 0,
  "metadata": {
    "colab": {
      "provenance": []
    },
    "kernelspec": {
      "name": "python3",
      "display_name": "Python 3"
    },
    "language_info": {
      "name": "python"
    }
  },
  "cells": [
    {
      "cell_type": "code",
      "execution_count": null,
      "metadata": {
        "id": "7orIedGckTt8"
      },
      "outputs": [],
      "source": [
        "import pandas as pd\n",
        "import matplotlib.pyplot as plt\n",
        "import seaborn as sns\n",
        "import numpy as np\n",
        "from plotnine import *"
      ]
    },
    {
      "cell_type": "code",
      "source": [],
      "metadata": {
        "id": "DIT2zb_8k9qQ"
      },
      "execution_count": null,
      "outputs": []
    },
    {
      "cell_type": "markdown",
      "source": [
        "### Data Understanding"
      ],
      "metadata": {
        "id": "nmmr2_EpuuRL"
      }
    },
    {
      "cell_type": "code",
      "source": [
        "# Reading the Data\n",
        "df = pd.read_csv(\"/kaggle/input/train_data.csv\")\n",
        "df_test = pd.read_csv(\"/kaggle/input/test_data_with_inputs.csv\")"
      ],
      "metadata": {
        "id": "m48BNoQUk9x-"
      },
      "execution_count": null,
      "outputs": []
    },
    {
      "cell_type": "code",
      "source": [
        "# Displaying the first 10 records\n",
        "df.head(10)"
      ],
      "metadata": {
        "id": "MK2fV7zylGvy"
      },
      "execution_count": null,
      "outputs": []
    },
    {
      "cell_type": "code",
      "source": [
        "# Relationship between the imdb score and the profit made by the movie\n",
        "ggplot(aes(x='imdb_score', y='Profit'), data=df) +\\\n",
        "    geom_line() +\\\n",
        "    stat_smooth(colour='blue', span=1)"
      ],
      "metadata": {
        "id": "0iwiZtdXlhRf"
      },
      "execution_count": null,
      "outputs": []
    },
    {
      "cell_type": "code",
      "source": [
        "# Top 20 actors of movies based on the imdb rating of the movies\n",
        "\n",
        "plt.figure(figsize=(10, 8))\n",
        "\n",
        "# new dataframe with top 20 values\n",
        "new_df = df.sort_values(by ='imdb_score' , ascending=False)\n",
        "new_df = new_df.head(20)\n",
        "\n",
        "# plotting\n",
        "ax=sns.pointplot(new_df['actor_1_name'], new_df['imdb_score'], hue=new_df['movie_title'])\n",
        "ax.set_xticklabels(ax.get_xticklabels(), rotation=40, ha=\"right\")\n",
        "plt.tight_layout()\n",
        "plt.show()"
      ],
      "metadata": {
        "id": "kNFBi9jyk90_"
      },
      "execution_count": null,
      "outputs": []
    },
    {
      "cell_type": "code",
      "source": [
        "# Correlation with heat map - to find to which feature is similar to which other\n",
        "# those above 0.5 corr score have significant overlap in information\n",
        "\n",
        "# calc corr\n",
        "corr = df.corr()\n",
        "sns.set_context(\"notebook\", font_scale=1.0, rc={\"lines.linewidth\": 2.5})\n",
        "plt.figure(figsize=(13,7))\n",
        "\n",
        "# create a mask so we only see the correlation values once\n",
        "mask = np.zeros_like(corr)\n",
        "mask[np.triu_indices_from(mask, 1)] = True\n",
        "a = sns.heatmap(corr, mask=mask, annot=True, fmt='.2f')\n",
        "rotx = a.set_xticklabels(a.get_xticklabels(), rotation=90)\n",
        "roty = a.set_yticklabels(a.get_yticklabels(), rotation=30)"
      ],
      "metadata": {
        "id": "syimJXKwl-n2"
      },
      "execution_count": null,
      "outputs": []
    },
    {
      "cell_type": "code",
      "source": [],
      "metadata": {
        "id": "2HzvdnG0mWEZ"
      },
      "execution_count": null,
      "outputs": []
    },
    {
      "cell_type": "markdown",
      "source": [
        "### Pre-processing"
      ],
      "metadata": {
        "id": "x0DNGRl_uyXu"
      }
    },
    {
      "cell_type": "code",
      "source": [
        "### Tip 1 - Handle different kinds of data types\n",
        "\n",
        "### Handling categorical data\n",
        "df2 = pd.get_dummies(data = df, columns = ['content_rating'] , prefix = ['content_rating'] , drop_first = True)\n",
        "\n",
        "### Handle different kinds of data - text etc., as you see fit"
      ],
      "metadata": {
        "id": "XdYwC8VWu1j8"
      },
      "execution_count": null,
      "outputs": []
    },
    {
      "cell_type": "code",
      "source": [
        "### Tip 2 - Based on above data analysis, choose all or relevant features\n",
        "### Tip 3 - Feel free to extract most important features using PCA, regularisation, above correlation heatmaps etc.\n",
        "### Feel free to convert the text to textual feature vectors, and use those as input too."
      ],
      "metadata": {
        "id": "RNpsZlkxu6iI"
      },
      "execution_count": 1,
      "outputs": []
    },
    {
      "cell_type": "code",
      "source": [
        "# Tip 4 - pandas data frames can be directly used in train and test split creation\n",
        "X_train, X_test, y_train, y_test = train_test_split(x, y, test_size=0.2, random_state=100)"
      ],
      "metadata": {
        "id": "0cFDV9kAoHbx"
      },
      "execution_count": null,
      "outputs": []
    },
    {
      "cell_type": "code",
      "source": [
        "# Tip 5- Don't forget feature scaling; check K-NN bootcamp text"
      ],
      "metadata": {
        "id": "LUeuB22Ov6_3"
      },
      "execution_count": null,
      "outputs": []
    },
    {
      "cell_type": "markdown",
      "source": [
        "### Model Selection"
      ],
      "metadata": {
        "id": "CK19wkDavVMq"
      }
    },
    {
      "cell_type": "code",
      "source": [
        "### Experiment with different regression models\n",
        "### https://scikit-learn.org/stable/supervised_learning.html"
      ],
      "metadata": {
        "id": "-cAR6QXcvWSC"
      },
      "execution_count": 2,
      "outputs": []
    },
    {
      "cell_type": "code",
      "source": [],
      "metadata": {
        "id": "QOnOqPbcvctJ"
      },
      "execution_count": null,
      "outputs": []
    },
    {
      "cell_type": "markdown",
      "source": [
        "### Evaluation and saving output"
      ],
      "metadata": {
        "id": "7Zb-W-KzvyzX"
      }
    },
    {
      "cell_type": "code",
      "source": [
        "# Creating output file for submission - Template Code\n",
        "\n",
        "test = pd.read_csv('/kaggle/input/test-imdb/test_data_with_inputs.csv')\n",
        "\n",
        "# Convert all submission data to same input format as done for train data\n",
        "# run prediction as y_pred = model.predict(X_test)\n",
        "# y_pred contains IMDB scores\n",
        "\n",
        "submission = pd.DataFrame({'s_no':test.s_no, 'output':y_pred[..., 0]}).set_index('s_no')\n",
        "submission.to_csv('output_submission.csv')"
      ],
      "metadata": {
        "id": "X833FyDYv0IY"
      },
      "execution_count": null,
      "outputs": []
    },
    {
      "cell_type": "code",
      "source": [],
      "metadata": {
        "id": "xRKZLwnaoFQf"
      },
      "execution_count": null,
      "outputs": []
    }
  ]
}